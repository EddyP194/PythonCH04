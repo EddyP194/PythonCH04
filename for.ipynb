{
 "cells": [
  {
   "cell_type": "markdown",
   "metadata": {},
   "source": [
    "### While Loop Example(s)"
   ]
  },
  {
   "cell_type": "code",
   "execution_count": 27,
   "metadata": {},
   "outputs": [
    {
     "name": "stdout",
     "output_type": "stream",
     "text": [
      "59 73 87 73 30 74 49 21 96 36 \n",
      "The total is          4\n"
     ]
    }
   ],
   "source": [
    "import random\n",
    "\n",
    "i = 0; cnt = 0\n",
    "\n",
    "while (i < 10):\n",
    "    rdnum = random.randint(0,100)\n",
    "    print (rdnum, end = ' ')\n",
    "    if (rdnum >= 0) and (rdnum <=50):\n",
    "        cnt += 1\n",
    "    i += 1\n",
    "print (f'\\nThe total is {cnt:10d}')"
   ]
  },
  {
   "cell_type": "markdown",
   "metadata": {},
   "source": [
    "### For Loop Example(s)"
   ]
  },
  {
   "cell_type": "code",
   "execution_count": 39,
   "metadata": {},
   "outputs": [
    {
     "name": "stdout",
     "output_type": "stream",
     "text": [
      "0 1 2 3 4 "
     ]
    }
   ],
   "source": [
    "# basic syntax\n",
    "\n",
    "for num in range(5):\n",
    "    print (num, end = ' ')\n",
    "\n"
   ]
  },
  {
   "cell_type": "code",
   "execution_count": 34,
   "metadata": {},
   "outputs": [
    {
     "data": {
      "text/plain": [
       "range(0, 5)"
      ]
     },
     "execution_count": 34,
     "metadata": {},
     "output_type": "execute_result"
    }
   ],
   "source": [
    "range(5) # 0, 1, 2, 3, 4"
   ]
  },
  {
   "cell_type": "code",
   "execution_count": 38,
   "metadata": {},
   "outputs": [
    {
     "name": "stdout",
     "output_type": "stream",
     "text": [
      "[0, 1, 2, 3, 4]\n"
     ]
    }
   ],
   "source": [
    "lst = list(range(5))\n",
    "print (lst)"
   ]
  },
  {
   "cell_type": "code",
   "execution_count": 41,
   "metadata": {},
   "outputs": [
    {
     "name": "stdout",
     "output_type": "stream",
     "text": [
      "0 2 4 "
     ]
    }
   ],
   "source": [
    "for i in range(0, 5, 2):\n",
    "    print (i, end = ' ')"
   ]
  },
  {
   "cell_type": "code",
   "execution_count": 42,
   "metadata": {},
   "outputs": [
    {
     "name": "stdout",
     "output_type": "stream",
     "text": [
      "10 12 14 16 18 20 "
     ]
    }
   ],
   "source": [
    "for i in range(10, 21, 2):\n",
    "    print (i, end = ' ')"
   ]
  },
  {
   "cell_type": "code",
   "execution_count": 43,
   "metadata": {},
   "outputs": [
    {
     "name": "stdout",
     "output_type": "stream",
     "text": [
      "loop executed\n",
      "loop executed\n",
      "loop executed\n",
      "loop executed\n",
      "loop executed\n"
     ]
    }
   ],
   "source": [
    "for _ in range(5):\n",
    "    print('loop executed')"
   ]
  },
  {
   "cell_type": "code",
   "execution_count": 44,
   "metadata": {},
   "outputs": [
    {
     "name": "stdout",
     "output_type": "stream",
     "text": [
      "10\n",
      "5\n",
      "20\n",
      "25\n",
      "30\n"
     ]
    }
   ],
   "source": [
    "mylst = [10, 5, 20, 25, 30]\n",
    "for i in mylst:\n",
    "    print (i)"
   ]
  },
  {
   "cell_type": "markdown",
   "metadata": {},
   "source": [
    "### List data type examples"
   ]
  },
  {
   "cell_type": "code",
   "execution_count": 48,
   "metadata": {},
   "outputs": [
    {
     "data": {
      "text/plain": [
       "30"
      ]
     },
     "execution_count": 48,
     "metadata": {},
     "output_type": "execute_result"
    }
   ],
   "source": [
    "mylst = [10, 20, 30, 40, 50]\n",
    "\n",
    "mylst[2]"
   ]
  },
  {
   "cell_type": "code",
   "execution_count": 51,
   "metadata": {},
   "outputs": [
    {
     "name": "stdout",
     "output_type": "stream",
     "text": [
      "10 20 30 40 50 \n",
      "10 20 30 40 50 "
     ]
    }
   ],
   "source": [
    "for v in mylst:\n",
    "    print (v, end = ' ')\n",
    "print()\n",
    "for i in range(5):\n",
    "    print (mylst[i], end = ' ')"
   ]
  },
  {
   "cell_type": "code",
   "execution_count": 56,
   "metadata": {},
   "outputs": [
    {
     "name": "stdout",
     "output_type": "stream",
     "text": [
      "[76, 48, 80, 66, 76]\n"
     ]
    }
   ],
   "source": [
    "rdnum = [0, 0, 0, 0, 0]\n",
    "for i in range(5):\n",
    "    rdnum[i] = random.randint(0, 100) % 100\n",
    "print (rdnum)"
   ]
  },
  {
   "cell_type": "code",
   "execution_count": 57,
   "metadata": {},
   "outputs": [
    {
     "data": {
      "text/plain": [
       "[0, 0, 0, 0, 0, 0, 0, 0, 0, 0]"
      ]
     },
     "execution_count": 57,
     "metadata": {},
     "output_type": "execute_result"
    }
   ],
   "source": [
    "result = [0] * 10\n",
    "result[0] = 100\n",
    "result"
   ]
  },
  {
   "cell_type": "code",
   "execution_count": 58,
   "metadata": {},
   "outputs": [
    {
     "data": {
      "text/plain": [
       "[1]"
      ]
     },
     "execution_count": 58,
     "metadata": {},
     "output_type": "execute_result"
    }
   ],
   "source": [
    "result = []\n",
    "result.append(1)\n",
    "result"
   ]
  },
  {
   "cell_type": "code",
   "execution_count": 62,
   "metadata": {},
   "outputs": [
    {
     "name": "stdout",
     "output_type": "stream",
     "text": [
      "22\n"
     ]
    }
   ],
   "source": [
    "# Lab 4-2\n",
    "total = 0\n",
    "for i in range(5):\n",
    "    num = int(input())\n",
    "    total += num\n",
    "print(total)"
   ]
  },
  {
   "cell_type": "code",
   "execution_count": 60,
   "metadata": {},
   "outputs": [
    {
     "name": "stdout",
     "output_type": "stream",
     "text": [
      "30\n"
     ]
    }
   ],
   "source": [
    "# Lab 4-3; same as 4-2 w/ while loop\n",
    "i = 0; total = 0\n",
    "while(i<5):\n",
    "    num = int(input(0))\n",
    "    total += num\n",
    "    i += 1\n",
    "print(total)"
   ]
  },
  {
   "cell_type": "code",
   "execution_count": 65,
   "metadata": {},
   "outputs": [
    {
     "name": "stdout",
     "output_type": "stream",
     "text": [
      "[4, 5, 6, 4, 2]\n",
      "21\n"
     ]
    }
   ],
   "source": [
    "# 4-4\n",
    "numbers = [0] * 5\n",
    "total = 0\n",
    "for i in range(5):\n",
    "    numbers[i] = int(input())\n",
    "print(numbers)\n",
    "# total = sum(numbers)\n",
    "for v in numbers:\n",
    "    total += v\n",
    "\n",
    "print (total)"
   ]
  },
  {
   "cell_type": "code",
   "execution_count": 68,
   "metadata": {},
   "outputs": [
    {
     "name": "stdout",
     "output_type": "stream",
     "text": [
      "Your valid input is: 5\n"
     ]
    }
   ],
   "source": [
    "# lab 4-5\n",
    "# take a user input until it is valid (>0 <100). Use while loop.\n",
    "\n",
    "# version 1\n",
    "num = int(input())\n",
    "while (num <= 0) or (num >= 100):\n",
    "    num = int(input(\"Input invalid, try another value: \"))\n",
    "print(f'Your valid input is: {num}')\n"
   ]
  },
  {
   "cell_type": "code",
   "execution_count": 74,
   "metadata": {},
   "outputs": [
    {
     "name": "stdout",
     "output_type": "stream",
     "text": [
      " Invalid: Try again \n",
      " Invalid: Try again \n",
      "50\n"
     ]
    }
   ],
   "source": [
    "# lab 4-5 version 2\n",
    "\n",
    "while True:\n",
    "    num = int(input())\n",
    "    if 0 < num < 100:\n",
    "        break\n",
    "    print(' Invalid: Try again ')\n",
    "print (num)"
   ]
  },
  {
   "cell_type": "code",
   "execution_count": 75,
   "metadata": {},
   "outputs": [
    {
     "name": "stdout",
     "output_type": "stream",
     "text": [
      "Value Error\n",
      "Value Error\n",
      "Value Error\n",
      "15\n"
     ]
    }
   ],
   "source": [
    "# Lab 4-2 Try-Except\n",
    "while True:\n",
    "    try:\n",
    "        num = int(input())\n",
    "    except ValueError:\n",
    "        print('Value Error')\n",
    "    except IndexError:\n",
    "        print('Index Error')\n",
    "    else:\n",
    "        print(num)\n",
    "        break"
   ]
  },
  {
   "cell_type": "code",
   "execution_count": 71,
   "metadata": {},
   "outputs": [
    {
     "ename": "ValueError",
     "evalue": "invalid literal for int() with base 10: 'dwa'",
     "output_type": "error",
     "traceback": [
      "\u001b[1;31m---------------------------------------------------------------------------\u001b[0m",
      "\u001b[1;31mValueError\u001b[0m                                Traceback (most recent call last)",
      "Cell \u001b[1;32mIn[71], line 1\u001b[0m\n\u001b[1;32m----> 1\u001b[0m num \u001b[38;5;241m=\u001b[39m \u001b[38;5;28mint\u001b[39m(\u001b[38;5;28minput\u001b[39m())\n",
      "\u001b[1;31mValueError\u001b[0m: invalid literal for int() with base 10: 'dwa'"
     ]
    }
   ],
   "source": [
    "num = int(input())"
   ]
  },
  {
   "cell_type": "code",
   "execution_count": 76,
   "metadata": {},
   "outputs": [
    {
     "ename": "SyntaxError",
     "evalue": "cannot assign to True (845637477.py, line 1)",
     "output_type": "error",
     "traceback": [
      "\u001b[1;36m  Cell \u001b[1;32mIn[76], line 1\u001b[1;36m\u001b[0m\n\u001b[1;33m    True = False\u001b[0m\n\u001b[1;37m    ^\u001b[0m\n\u001b[1;31mSyntaxError\u001b[0m\u001b[1;31m:\u001b[0m cannot assign to True\n"
     ]
    }
   ],
   "source": []
  }
 ],
 "metadata": {
  "kernelspec": {
   "display_name": "base",
   "language": "python",
   "name": "python3"
  },
  "language_info": {
   "codemirror_mode": {
    "name": "ipython",
    "version": 3
   },
   "file_extension": ".py",
   "mimetype": "text/x-python",
   "name": "python",
   "nbconvert_exporter": "python",
   "pygments_lexer": "ipython3",
   "version": "3.12.4"
  }
 },
 "nbformat": 4,
 "nbformat_minor": 2
}
